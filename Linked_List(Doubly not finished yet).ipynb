{
  "nbformat": 4,
  "nbformat_minor": 0,
  "metadata": {
    "colab": {
      "provenance": [],
      "authorship_tag": "ABX9TyPtmZy+qoI8vpqTfkzdTaLU",
      "include_colab_link": true
    },
    "kernelspec": {
      "name": "python3",
      "display_name": "Python 3"
    },
    "language_info": {
      "name": "python"
    }
  },
  "cells": [
    {
      "cell_type": "markdown",
      "metadata": {
        "id": "view-in-github",
        "colab_type": "text"
      },
      "source": [
        "<a href=\"https://colab.research.google.com/github/Neilvaldrez/58009-DSAA/blob/main/Linked_List(Doubly%20not%20finished%20yet).ipynb\" target=\"_parent\"><img src=\"https://colab.research.google.com/assets/colab-badge.svg\" alt=\"Open In Colab\"/></a>"
      ]
    },
    {
      "cell_type": "markdown",
      "source": [
        "Singly Linked List"
      ],
      "metadata": {
        "id": "v4qoIKLrw7U-"
      }
    },
    {
      "cell_type": "code",
      "source": [
        "#A simple Python program to introduce a linked list\n",
        "\n",
        "#Node class\n",
        "class Node:\n",
        "\n",
        "  #Function to initialize the node object\n",
        "  def __init__(self,data):\n",
        "    self.data = data #Assign data\n",
        "    self.next = None #initialize next as null\n",
        "\n",
        "#Linked List class contains a Node object\n",
        "class LinkedList:\n",
        "\n",
        "  #Function to initialize head\n",
        "  def __init__(self):\n",
        "    self.head = None\n",
        "\n",
        "  def printlist(self):\n",
        "    temp = self.head\n",
        "\n",
        "    while(temp):\n",
        "      print(temp.data)\n",
        "      temp = temp.next\n",
        "\n",
        "# Code execution starts here\n",
        "if __name__=='__main__':\n",
        "  # Start with the empty list\n",
        "  llist = LinkedList()\n",
        "  llist.head = Node(1)\n",
        "  second = Node(2)\n",
        "  third = Node(3)\n",
        "\n",
        "  llist.head.next = second; # Linkfirst node with second\n",
        "  second.next = third; # Linksecond node with the third node\n",
        "\n",
        "  llist.printlist()"
      ],
      "metadata": {
        "colab": {
          "base_uri": "https://localhost:8080/"
        },
        "id": "rlLAMhs7w8d8",
        "outputId": "78705878-beab-4c91-b172-055e9b06e858"
      },
      "execution_count": 26,
      "outputs": [
        {
          "output_type": "stream",
          "name": "stdout",
          "text": [
            "1\n",
            "2\n",
            "3\n"
          ]
        }
      ]
    },
    {
      "cell_type": "markdown",
      "source": [
        "Doubly Linked List"
      ],
      "metadata": {
        "id": "Nd-O29xF07SO"
      }
    },
    {
      "cell_type": "code",
      "source": [
        "# Python3 Program to reverse a doubly linked list\n",
        "\n",
        "# A node of the doubly linked list\n",
        "\n",
        "class Node:\n",
        "\n",
        "    # Constructor to create a new node\n",
        "    def __init__(self, data):\n",
        "        self.data = data\n",
        "        self.next = None\n",
        "        self.prev = None\n",
        "\n",
        "\n",
        "class DoublyLinkedList:\n",
        "     # Constructor for empty Doubly Linked List\n",
        "    def __init__(self):\n",
        "        self.head = None\n",
        "\n",
        "    # Function reverse a Doubly Linked List\n",
        "    def reverse(self):\n",
        "        temp = None\n",
        "        current = self.head\n",
        "\n",
        "        # Swap next and prev for all nodes of\n",
        "        # doubly linked list\n",
        "        while current is not None:\n",
        "            temp = current.prev\n",
        "            current.prev = current.next\n",
        "            current.next = temp\n",
        "            current = current.prev\n",
        "\n",
        "        # Before changing head, check for the cases like\n",
        "        # empty list and list with only one node\n",
        "        if temp is not None:\n",
        "            self.head = temp.prev\n",
        "\n",
        "    # Given a reference to the head of a list and an\n",
        "    # integer,inserts a new node on the front of list\n",
        "    def push(self, new_data):\n",
        "\n",
        "        # 1. Allocates node\n",
        "        # 2. Put the data in it\n",
        "        new_node = Node(new_data)\n",
        "\n",
        "        # 3. Make next of new node as head and\n",
        "        # previous as None (already None)\n",
        "        new_node.next = self.head\n",
        "\n",
        "        # 4. change prev of head node to new_node\n",
        "        if self.head is not None:\n",
        "            self.head.prev = new_node\n",
        "\n",
        "        # 5. move the head to point to the new node\n",
        "        self.head = new_node\n",
        "\n",
        "    def printList(self, node):\n",
        "        while(node is not None):\n",
        "            print(node.data, end=' ')\n",
        "            node = node.next\n",
        "\n",
        "\n",
        "# Driver's code\n",
        "if __name__ == \"__main__\":\n",
        "    dll = DoublyLinkedList()\n",
        "    dll.push(3)\n",
        "    dll.push(2)\n",
        "    dll.push(1)\n",
        "\n",
        "    dll.printList(dll.head)\n",
        "\n",
        "    # Function call\n",
        "    dll.reverse()\n",
        "\n",
        "    dll.printList(dll.head)"
      ],
      "metadata": {
        "colab": {
          "base_uri": "https://localhost:8080/"
        },
        "id": "P8RIOGK9DI4P",
        "outputId": "77e095f3-bd6f-441b-8208-7c5263139460"
      },
      "execution_count": 38,
      "outputs": [
        {
          "output_type": "stream",
          "name": "stdout",
          "text": [
            "1 2 3 3 2 1 "
          ]
        }
      ]
    }
  ]
}