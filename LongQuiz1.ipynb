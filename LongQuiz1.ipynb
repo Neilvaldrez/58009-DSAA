{
  "nbformat": 4,
  "nbformat_minor": 0,
  "metadata": {
    "colab": {
      "provenance": [],
      "authorship_tag": "ABX9TyNDnlvlaLJPJUeppTRMViJG",
      "include_colab_link": true
    },
    "kernelspec": {
      "name": "python3",
      "display_name": "Python 3"
    },
    "language_info": {
      "name": "python"
    }
  },
  "cells": [
    {
      "cell_type": "markdown",
      "metadata": {
        "id": "view-in-github",
        "colab_type": "text"
      },
      "source": [
        "<a href=\"https://colab.research.google.com/github/Neilvaldrez/58009-DSAA/blob/main/LongQuiz1.ipynb\" target=\"_parent\"><img src=\"https://colab.research.google.com/assets/colab-badge.svg\" alt=\"Open In Colab\"/></a>"
      ]
    },
    {
      "cell_type": "markdown",
      "source": [
        "Create a python or C++ program that appends each character of your full name and displays each character in reverse order"
      ],
      "metadata": {
        "id": "v2eRUDc46ULD"
      }
    },
    {
      "cell_type": "code",
      "source": [
        "fullname = \"Neil Aaron Mendoza Valdrez\"\n",
        "\n",
        "singularcharacters = []\n",
        "\n",
        "for char in fullname:\n",
        "  singularcharacters.append(char)\n",
        "\n",
        "print(\"My full name in reverse: \")\n",
        "for char in reversed(singularcharacters):\n",
        "      print(char)"
      ],
      "metadata": {
        "colab": {
          "base_uri": "https://localhost:8080/"
        },
        "id": "58wnZp_J6Tn8",
        "outputId": "b379de0e-03d7-4821-c076-e86465d98626"
      },
      "execution_count": 24,
      "outputs": [
        {
          "output_type": "stream",
          "name": "stdout",
          "text": [
            "My full name in reverse: \n",
            "z\n",
            "e\n",
            "r\n",
            "d\n",
            "l\n",
            "a\n",
            "V\n",
            " \n",
            "a\n",
            "z\n",
            "o\n",
            "d\n",
            "n\n",
            "e\n",
            "M\n",
            " \n",
            "n\n",
            "o\n",
            "r\n",
            "a\n",
            "A\n",
            " \n",
            "l\n",
            "i\n",
            "e\n",
            "N\n"
          ]
        }
      ]
    },
    {
      "cell_type": "markdown",
      "source": [
        "Using the set of positive whole numbers from 1 to 10, create a python or C++ program that displays if it is prime or composite."
      ],
      "metadata": {
        "id": "aL0kn6lT7kYK"
      }
    },
    {
      "cell_type": "code",
      "source": [
        "import math\n",
        "\n",
        "class Node:\n",
        "    def __init__(self, data):\n",
        "        self.data = data\n",
        "        self.next = None\n",
        "\n",
        "class LinkedList:\n",
        "    def __init__(self):\n",
        "        self.head = None\n",
        "        self.tail = None\n",
        "\n",
        "    def append(self, data):\n",
        "        new_node = Node(data)\n",
        "        if self.head is None:\n",
        "            self.head = new_node\n",
        "            self.tail = new_node\n",
        "        else:\n",
        "            self.tail.next = new_node\n",
        "            self.tail = new_node\n",
        "\n",
        "def is_prime(num):\n",
        "    if num <= 1:\n",
        "        return False\n",
        "    if num == 2:\n",
        "        return True\n",
        "    if num % 2 == 0:\n",
        "        return False\n",
        "    sqrt_num = int(math.sqrt(num))\n",
        "    for i in range(3, sqrt_num + 1, 2):\n",
        "        if num % i == 0:\n",
        "            return False\n",
        "    return True\n",
        "\n",
        "def is_composite(num):\n",
        "    return num > 1 and not is_prime(num)\n",
        "\n",
        "integers_list = LinkedList()\n",
        "\n",
        "print(\"Prime or Composite?\")\n",
        "for i in range(1, 11):\n",
        "    if i == 1:\n",
        "        integers_list.append(f\"{i} is neither prime nor a composite number\")\n",
        "    elif is_prime(i):\n",
        "        integers_list.append(f\"{i} is a prime number\")\n",
        "    elif is_composite(i):\n",
        "        integers_list.append(f\"{i} is a composite number\")\n",
        "\n",
        "current_node = integers_list.head\n",
        "while current_node is not None:\n",
        "    print(current_node.data)\n",
        "    current_node = current_node.next\n"
      ],
      "metadata": {
        "colab": {
          "base_uri": "https://localhost:8080/"
        },
        "id": "AUeG4pliFLlD",
        "outputId": "ac2b89ee-d349-46c2-e1f1-2701c979c0fb"
      },
      "execution_count": 43,
      "outputs": [
        {
          "output_type": "stream",
          "name": "stdout",
          "text": [
            "Prime or Composite?\n",
            "1 is neither prime nor a composite number\n",
            "2 is a prime number\n",
            "3 is a prime number\n",
            "4 is a composite number\n",
            "5 is a prime number\n",
            "6 is a composite number\n",
            "7 is a prime number\n",
            "8 is a composite number\n",
            "9 is a composite number\n",
            "10 is a composite number\n"
          ]
        }
      ]
    }
  ]
}