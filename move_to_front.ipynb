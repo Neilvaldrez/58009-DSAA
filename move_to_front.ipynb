{
  "nbformat": 4,
  "nbformat_minor": 0,
  "metadata": {
    "colab": {
      "provenance": [],
      "authorship_tag": "ABX9TyPL+khxqu2d8yIvAGlUr4lo",
      "include_colab_link": true
    },
    "kernelspec": {
      "name": "python3",
      "display_name": "Python 3"
    },
    "language_info": {
      "name": "python"
    }
  },
  "cells": [
    {
      "cell_type": "markdown",
      "metadata": {
        "id": "view-in-github",
        "colab_type": "text"
      },
      "source": [
        "<a href=\"https://colab.research.google.com/github/Neilvaldrez/58009-DSAA/blob/main/move_to_front.ipynb\" target=\"_parent\"><img src=\"https://colab.research.google.com/assets/colab-badge.svg\" alt=\"Open In Colab\"/></a>"
      ]
    },
    {
      "cell_type": "code",
      "source": [
        "elements = ['a', 'b', 'c', 'd', 'e', 'f']\n",
        "\n",
        "sequence = ['a', 'b', 'c', 'd', 'e', 'f', 'a', 'c', 'f', 'b', 'd', 'e']\n",
        "\n",
        "initial_list = list(elements)\n",
        "\n",
        "def move_to_front(element, lst):\n",
        "    lst.remove(element)\n",
        "    lst.insert(0, element)\n",
        "\n",
        "for element in sequence:\n",
        "    # Apply the move-to-front heuristic\n",
        "    move_to_front(element, initial_list)\n",
        "\n",
        "print(\"Final state of the list: \", initial_list)"
      ],
      "metadata": {
        "colab": {
          "base_uri": "https://localhost:8080/"
        },
        "id": "SDiak6AXiOtt",
        "outputId": "a742fedc-7d7c-4200-8953-c176a2be151c"
      },
      "execution_count": 2,
      "outputs": [
        {
          "output_type": "stream",
          "name": "stdout",
          "text": [
            "Final state of the list:  ['e', 'd', 'b', 'f', 'c', 'a']\n"
          ]
        }
      ]
    }
  ]
}