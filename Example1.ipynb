{
  "nbformat": 4,
  "nbformat_minor": 0,
  "metadata": {
    "colab": {
      "provenance": [],
      "authorship_tag": "ABX9TyM6YxrPfY4HQaTY7zdn15zd",
      "include_colab_link": true
    },
    "kernelspec": {
      "name": "python3",
      "display_name": "Python 3"
    },
    "language_info": {
      "name": "python"
    }
  },
  "cells": [
    {
      "cell_type": "markdown",
      "metadata": {
        "id": "view-in-github",
        "colab_type": "text"
      },
      "source": [
        "<a href=\"https://colab.research.google.com/github/Neilvaldrez/58009-DSAA/blob/main/Example1.ipynb\" target=\"_parent\"><img src=\"https://colab.research.google.com/assets/colab-badge.svg\" alt=\"Open In Colab\"/></a>"
      ]
    },
    {
      "cell_type": "code",
      "source": [
        "class Shape:\n",
        "    def __init__(self, length, width):\n",
        "        self.length = length\n",
        "        self.width = width\n",
        "\n",
        "    def area_rec(self):\n",
        "        return self.length * self.width\n",
        "\n",
        "rectangle = Shape(float(input(\"Enter the length of the rectangle: \")), float(input(\"Enter the width of the rectangle: \")))\n",
        "print(f\"The area of the rectangle is: {rectangle.area_rec()}\")\n",
        ""
      ],
      "metadata": {
        "id": "tw6521xd0nMi",
        "outputId": "ff32efed-a47a-4733-a178-5faca3fc4c7a",
        "colab": {
          "base_uri": "https://localhost:8080/"
        }
      },
      "execution_count": 6,
      "outputs": [
        {
          "output_type": "stream",
          "name": "stdout",
          "text": [
            "Enter the length of the rectangle: 10\n",
            "Enter the width of the rectangle: 5\n",
            "The area of the rectangle is: 50.0\n"
          ]
        }
      ]
    }
  ]
}