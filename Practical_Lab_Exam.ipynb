{
  "nbformat": 4,
  "nbformat_minor": 0,
  "metadata": {
    "colab": {
      "provenance": [],
      "authorship_tag": "ABX9TyNA4WUiZgQlEYSmFPkhh/Tj",
      "include_colab_link": true
    },
    "kernelspec": {
      "name": "python3",
      "display_name": "Python 3"
    },
    "language_info": {
      "name": "python"
    }
  },
  "cells": [
    {
      "cell_type": "markdown",
      "metadata": {
        "id": "view-in-github",
        "colab_type": "text"
      },
      "source": [
        "<a href=\"https://colab.research.google.com/github/Neilvaldrez/58009-DSAA/blob/main/Practical_Lab_Exam.ipynb\" target=\"_parent\"><img src=\"https://colab.research.google.com/assets/colab-badge.svg\" alt=\"Open In Colab\"/></a>"
      ]
    },
    {
      "cell_type": "code",
      "source": [
        "test_scores = [26, 49, 98, 87, 62, 75]\n",
        "sum_odd_scores = 0\n",
        "\n",
        "for score in test_scores:\n",
        "    if score % 2 != 0:\n",
        "        sum_odd_scores += score\n",
        "\n",
        "print(\"Sum of odd test scores:\", sum_odd_scores)"
      ],
      "metadata": {
        "colab": {
          "base_uri": "https://localhost:8080/"
        },
        "id": "ZFNVRV62VDir",
        "outputId": "22e2b8e8-9cbe-42d7-ca63-67cdb7879a44"
      },
      "execution_count": 13,
      "outputs": [
        {
          "output_type": "stream",
          "name": "stdout",
          "text": [
            "Sum of odd test scores: 211\n"
          ]
        }
      ]
    }
  ]
}