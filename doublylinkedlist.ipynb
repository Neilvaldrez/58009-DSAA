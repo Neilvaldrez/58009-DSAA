{
  "nbformat": 4,
  "nbformat_minor": 0,
  "metadata": {
    "colab": {
      "provenance": [],
      "authorship_tag": "ABX9TyNmXFBIJE72eQUd/AylmV6Q",
      "include_colab_link": true
    },
    "kernelspec": {
      "name": "python3",
      "display_name": "Python 3"
    },
    "language_info": {
      "name": "python"
    }
  },
  "cells": [
    {
      "cell_type": "markdown",
      "metadata": {
        "id": "view-in-github",
        "colab_type": "text"
      },
      "source": [
        "<a href=\"https://colab.research.google.com/github/Neilvaldrez/58009-DSAA/blob/main/doublylinkedlist.ipynb\" target=\"_parent\"><img src=\"https://colab.research.google.com/assets/colab-badge.svg\" alt=\"Open In Colab\"/></a>"
      ]
    },
    {
      "cell_type": "code",
      "source": [
        "class Node:\n",
        "    def __init__(self, data):\n",
        "        self.data = data\n",
        "        self.next = None\n",
        "        self.prev = None\n",
        "\n",
        "class DoublyLinkedList:\n",
        "    def __init__(self):\n",
        "        self.head = None\n",
        "\n",
        "    def append(self, data):\n",
        "        new_node = Node(data)\n",
        "        if not self.head:\n",
        "            self.head = new_node\n",
        "        else:\n",
        "            current = self.head\n",
        "            while current.next:\n",
        "                current = current.next\n",
        "            current.next = new_node\n",
        "            new_node.prev = current\n",
        "\n",
        "    def count_items(self):\n",
        "        count = 0\n",
        "        current = self.head\n",
        "        while current:\n",
        "            count += 1\n",
        "            current = current.next\n",
        "        return count\n",
        "\n",
        "    def insert_front(self, data):\n",
        "        new_node = Node(data)\n",
        "        new_node.next = self.head\n",
        "        if self.head:\n",
        "            self.head.prev = new_node\n",
        "        self.head = new_node\n",
        "\n",
        "    def print_reverse(self):\n",
        "        current = self.head\n",
        "        while current and current.next:\n",
        "            current = current.next\n",
        "\n",
        "        while current:\n",
        "            print(current.data, end=\" \")\n",
        "            current = current.prev\n",
        "        print()\n",
        "\n",
        "    def print_list(self):\n",
        "        current = self.head\n",
        "        while current:\n",
        "            print(current.data, end=\" \")\n",
        "            current = current.next\n",
        "        print()\n",
        "\n",
        "dll = DoublyLinkedList()\n",
        "\n",
        "dll.append(1)\n",
        "dll.append(2)\n",
        "dll.append(3)\n",
        "\n",
        "print(\"Number of items:\", dll.count_items())\n",
        "\n",
        "print(\"Inserted item in front: 0\")\n",
        "dll.insert_front(0)\n",
        "\n",
        "print(\"Linked list with inserted item in front: \")\n",
        "dll.print_list()\n",
        "\n",
        "print(\"Doubly Linked List in reverse order:\")\n",
        "dll.print_reverse()\n",
        "\n",
        "print(\"Number of items: 4\")"
      ],
      "metadata": {
        "colab": {
          "base_uri": "https://localhost:8080/"
        },
        "id": "SDiak6AXiOtt",
        "outputId": "34c38593-1580-4139-d670-fd9176d97255"
      },
      "execution_count": 3,
      "outputs": [
        {
          "output_type": "stream",
          "name": "stdout",
          "text": [
            "Number of items: 3\n",
            "Inserted item in front: 0\n",
            "Linked list with inserted item in front: \n",
            "0 1 2 3 \n",
            "Doubly Linked List in reverse order:\n",
            "3 2 1 0 \n",
            "Number of items: 4\n"
          ]
        }
      ]
    }
  ]
}