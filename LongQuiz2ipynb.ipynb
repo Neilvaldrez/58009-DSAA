{
  "nbformat": 4,
  "nbformat_minor": 0,
  "metadata": {
    "colab": {
      "provenance": [],
      "authorship_tag": "ABX9TyMQ1GLlld1z2vN9zwf9iQs8",
      "include_colab_link": true
    },
    "kernelspec": {
      "name": "python3",
      "display_name": "Python 3"
    },
    "language_info": {
      "name": "python"
    }
  },
  "cells": [
    {
      "cell_type": "markdown",
      "metadata": {
        "id": "view-in-github",
        "colab_type": "text"
      },
      "source": [
        "<a href=\"https://colab.research.google.com/github/Neilvaldrez/58009-DSAA/blob/main/LongQuiz2ipynb.ipynb\" target=\"_parent\"><img src=\"https://colab.research.google.com/assets/colab-badge.svg\" alt=\"Open In Colab\"/></a>"
      ]
    },
    {
      "cell_type": "code",
      "execution_count": 6,
      "metadata": {
        "id": "596zonITuzCB",
        "colab": {
          "base_uri": "https://localhost:8080/"
        },
        "outputId": "98ac3f29-bab5-415f-d7e6-f2d7d7dfb186"
      },
      "outputs": [
        {
          "output_type": "stream",
          "name": "stdout",
          "text": [
            "The Vertices of G_28 are: \n",
            "['E', 'F', 'H', 'I', 'J', 'K', 'M', 'P']\n",
            "\n",
            "The Edges of G_28 are: \n",
            "[{'K', 'E'}, {'J', 'E'}, {'E', 'M'}, {'I', 'E'}, {'K', 'F'}, {'I', 'F'}, {'P', 'F'}, {'J', 'F'}, {'J', 'H'}, {'I', 'H'}, {'K', 'H'}]\n"
          ]
        }
      ],
      "source": [
        "class graph:\n",
        "   def __init__(self,gdict=None):\n",
        "      if gdict is None:\n",
        "         gdict = {}\n",
        "      self.gdict = gdict\n",
        "\n",
        "   def edges(self):\n",
        "      return self.findedges()\n",
        "\n",
        "   def findedges(self):\n",
        "      edgename = []\n",
        "      for vrtx in self.gdict:\n",
        "         for nxtvrtx in self.gdict[vrtx]:\n",
        "            if {nxtvrtx, vrtx} not in edgename:\n",
        "               edgename.append({vrtx, nxtvrtx})\n",
        "      return edgename\n",
        "\n",
        "   def getVertices(self):\n",
        "      return list(self.gdict.keys())\n",
        "\n",
        "graph_elements = {\n",
        "   \"E\" : [\"K\", \"J\", \"M\", \"I\"],\n",
        "   \"F\" : [\"K\", \"I\", \"P\", \"J\"],\n",
        "   \"H\" : [\"J\", \"I\", \"K\"],\n",
        "   \"I\" : [\"H\", \"F\",\"E\"],\n",
        "   \"J\" : [\"H\", \"E\", \"F\"],\n",
        "   \"K\" : [\"F\", \"E\",\"H\"],\n",
        "   \"M\" : [\"E\"],\n",
        "   \"P\" : [\"F\"],\n",
        "}\n",
        "g = graph(graph_elements)\n",
        "print(\"The Vertices of G_28 are: \")\n",
        "print(g.getVertices())\n",
        "print(\"\\nThe Edges of G_28 are: \")\n",
        "print(g.edges())\n"
      ]
    }
  ]
}