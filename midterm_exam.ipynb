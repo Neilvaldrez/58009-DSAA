{
  "nbformat": 4,
  "nbformat_minor": 0,
  "metadata": {
    "colab": {
      "provenance": [],
      "authorship_tag": "ABX9TyPaZUhZZ1OSL/qY4ujzGcel",
      "include_colab_link": true
    },
    "kernelspec": {
      "name": "python3",
      "display_name": "Python 3"
    },
    "language_info": {
      "name": "python"
    }
  },
  "cells": [
    {
      "cell_type": "markdown",
      "metadata": {
        "id": "view-in-github",
        "colab_type": "text"
      },
      "source": [
        "<a href=\"https://colab.research.google.com/github/Neilvaldrez/58009-DSAA/blob/main/midterm_exam.ipynb\" target=\"_parent\"><img src=\"https://colab.research.google.com/assets/colab-badge.svg\" alt=\"Open In Colab\"/></a>"
      ]
    },
    {
      "cell_type": "code",
      "execution_count": 6,
      "metadata": {
        "id": "596zonITuzCB",
        "colab": {
          "base_uri": "https://localhost:8080/"
        },
        "outputId": "e849d86f-79e4-4e14-ab7b-c64a4e91cb6c"
      },
      "outputs": [
        {
          "output_type": "stream",
          "name": "stdout",
          "text": [
            "Vertices of Graph 29:\n",
            "['A', 'B', 'C', 'D', 'E', 'F', 'G', 'I', 'J', 'K', 'L', 'M', 'N', 'O', 'P']\n",
            "\n",
            "\n",
            "Edges of Graph 29: \n",
            "[{'A', 'B'}, {'B', 'C'}, {'B', 'E'}, {'B', 'F'}, {'D', 'C'}, {'C', 'E'}, {'F', 'C'}, {'I', 'C'}, {'M', 'C'}, {'D', 'L'}, {'D', 'K'}, {'N', 'E'}, {'G', 'F'}, {'I', 'F'}, {'I', 'G'}, {'G', 'J'}, {'I', 'J'}, {'I', 'K'}, {'J', 'K'}, {'M', 'L'}, {'P', 'L'}, {'M', 'N'}, {'O', 'M'}, {'M', 'P'}, {'O', 'N'}, {'O', 'P'}]\n"
          ]
        }
      ],
      "source": [
        "class graph:\n",
        "   def __init__(self,gdict=None):\n",
        "      if gdict is None:\n",
        "         gdict = {}\n",
        "      self.gdict = gdict\n",
        "\n",
        "   def edges(self):\n",
        "      return self.findedges()\n",
        "\n",
        "   def findedges(self):\n",
        "      edgename = []\n",
        "      for vrtx in self.gdict:\n",
        "         for nxtvrtx in self.gdict[vrtx]:\n",
        "            if {nxtvrtx, vrtx} not in edgename:\n",
        "               edgename.append({vrtx, nxtvrtx})\n",
        "      return edgename\n",
        "\n",
        "   def getVertices(self):\n",
        "      return list(self.gdict.keys())\n",
        "\n",
        "graph_elements = {\n",
        "   \"A\" : [\"B\"],\n",
        "   \"B\" : [\"C\", \"E\", \"F\"],\n",
        "   \"C\" : [\"B\", \"D\", \"E\", \"F\", \"I\", \"M\"],\n",
        "   \"D\" : [\"C\", \"L\", \"K\"],\n",
        "   \"E\" : [\"B\", \"C\", \"N\"],\n",
        "   \"F\" : [\"B\", \"C\", \"G\", \"I\"],\n",
        "   \"G\" : [\"F\", \"I\", \"J\"],\n",
        "   \"I\" : [\"C\", \"F\", \"G\", \"J\", \"K\"],\n",
        "   \"J\" : [\"G\", \"I\", \"K\"],\n",
        "   \"K\" : [\"D\", \"I\", \"J\"],\n",
        "   \"L\" : [\"D\", \"M\", \"P\"],\n",
        "   \"M\" : [\"C\", \"L\", \"N\", \"O\", \"P\"],\n",
        "   \"N\" : [\"E\", \"M\", \"O\"],\n",
        "   \"O\" : [\"M\", \"N\", \"P\"],\n",
        "   \"P\" : [\"L\", \"M\", \"O\"],\n",
        "}\n",
        "g = graph(graph_elements)\n",
        "\n",
        "print(\"Vertices of Graph 29:\")\n",
        "print(g.getVertices())\n",
        "print(\"\\n\")\n",
        "print(\"Edges of Graph 29: \")\n",
        "print(g.edges())\n"
      ]
    }
  ]
}