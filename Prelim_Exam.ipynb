{
  "nbformat": 4,
  "nbformat_minor": 0,
  "metadata": {
    "colab": {
      "provenance": [],
      "authorship_tag": "ABX9TyNpnA+5HES54Cyfkv161XCR",
      "include_colab_link": true
    },
    "kernelspec": {
      "name": "python3",
      "display_name": "Python 3"
    },
    "language_info": {
      "name": "python"
    }
  },
  "cells": [
    {
      "cell_type": "markdown",
      "metadata": {
        "id": "view-in-github",
        "colab_type": "text"
      },
      "source": [
        "<a href=\"https://colab.research.google.com/github/Neilvaldrez/58009-DSAA/blob/main/Prelim_Exam.ipynb\" target=\"_parent\"><img src=\"https://colab.research.google.com/assets/colab-badge.svg\" alt=\"Open In Colab\"/></a>"
      ]
    },
    {
      "cell_type": "code",
      "source": [
        "test_scores = ([26,49,98,87,62,75])\n",
        "\n",
        "ascending_test_scores = []\n",
        "\n",
        "for num in test_scores:\n",
        "  ascending_test_scores.append(num)\n",
        "\n",
        "print(\"The test scores in ascending: \")\n",
        "for num in ( ascending_test_scores):\n",
        "      print(num)\n",
        "\n",
        "\n",
        "def array_sum(arr):\n",
        "    total = 0\n",
        "    for num in arr:\n",
        "        total += num\n",
        "    return total\n",
        "\n",
        "print(\"The sum of all numbers in the array is: \")\n",
        "print(array_sum(test_scores))\n",
        "\n",
        "\n",
        "\n"
      ],
      "metadata": {
        "colab": {
          "base_uri": "https://localhost:8080/"
        },
        "id": "gDM7bifJ5F8F",
        "outputId": "3dc10caa-bd42-48cb-9201-a9d9b49f5b7e"
      },
      "execution_count": 38,
      "outputs": [
        {
          "output_type": "stream",
          "name": "stdout",
          "text": [
            "The test scores in ascending: \n",
            "26\n",
            "49\n",
            "98\n",
            "87\n",
            "62\n",
            "75\n",
            "The sum of all numbers in the array is: \n",
            "397\n"
          ]
        }
      ]
    }
  ]
}