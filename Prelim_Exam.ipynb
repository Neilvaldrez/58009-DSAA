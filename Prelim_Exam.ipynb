{
  "nbformat": 4,
  "nbformat_minor": 0,
  "metadata": {
    "colab": {
      "provenance": [],
      "authorship_tag": "ABX9TyPFRsqbou1/tXci1yyj0AxI",
      "include_colab_link": true
    },
    "kernelspec": {
      "name": "python3",
      "display_name": "Python 3"
    },
    "language_info": {
      "name": "python"
    }
  },
  "cells": [
    {
      "cell_type": "markdown",
      "metadata": {
        "id": "view-in-github",
        "colab_type": "text"
      },
      "source": [
        "<a href=\"https://colab.research.google.com/github/Neilvaldrez/58009-DSAA/blob/main/Prelim_Exam.ipynb\" target=\"_parent\"><img src=\"https://colab.research.google.com/assets/colab-badge.svg\" alt=\"Open In Colab\"/></a>"
      ]
    },
    {
      "cell_type": "code",
      "source": [
        "test_scores = [26, 49, 98, 87, 62, 75]\n",
        "\n",
        "test_scores.sort()\n",
        "test_scores.reverse()\n",
        "for score in test_scores:\n",
        "    print(score)\n",
        "\n",
        "\n",
        "def array_sum(arr):\n",
        "    total = 0\n",
        "    for num in arr:\n",
        "        total += num\n",
        "    return total\n",
        "\n",
        "print(\"The sum of all numbers in the array is: \")\n",
        "print(array_sum(test_scores))\n",
        "\n",
        "\n",
        "\n"
      ],
      "metadata": {
        "colab": {
          "base_uri": "https://localhost:8080/"
        },
        "id": "gDM7bifJ5F8F",
        "outputId": "d9f23c42-684c-4c08-a57d-8b73392c82ca"
      },
      "execution_count": 57,
      "outputs": [
        {
          "output_type": "stream",
          "name": "stdout",
          "text": [
            "98\n",
            "87\n",
            "75\n",
            "62\n",
            "49\n",
            "26\n",
            "The sum of all numbers in the array is: \n",
            "397\n"
          ]
        }
      ]
    }
  ]
}