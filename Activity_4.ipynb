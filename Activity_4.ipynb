{
  "nbformat": 4,
  "nbformat_minor": 0,
  "metadata": {
    "colab": {
      "provenance": [],
      "authorship_tag": "ABX9TyMoMF413xYMpvNptUzLa523",
      "include_colab_link": true
    },
    "kernelspec": {
      "name": "python3",
      "display_name": "Python 3"
    },
    "language_info": {
      "name": "python"
    }
  },
  "cells": [
    {
      "cell_type": "markdown",
      "metadata": {
        "id": "view-in-github",
        "colab_type": "text"
      },
      "source": [
        "<a href=\"https://colab.research.google.com/github/Neilvaldrez/58009-DSAA/blob/main/Activity_4.ipynb\" target=\"_parent\"><img src=\"https://colab.research.google.com/assets/colab-badge.svg\" alt=\"Open In Colab\"/></a>"
      ]
    },
    {
      "cell_type": "code",
      "source": [
        "queue = []\n",
        "\n",
        "q = queue\n",
        "\n",
        "q.append(\"19\")\n",
        "q.append(\"20\")\n",
        "q.append(\"21\")\n",
        "q.append(\"23\")\n",
        "\n",
        "print('Queue for ordering:')\n",
        "print(q)\n",
        "\n",
        "print('Customer currently being served:')\n",
        "print(q.pop(0))\n",
        "\n",
        "print(\"Latest list for orders:\")\n",
        "print(q)\n",
        "\n",
        "print('Customer currently being served:')\n",
        "print(q.pop(0))\n",
        "\n",
        "print(\"Latest list for orders:\")\n",
        "print(q)\n",
        "\n",
        "print('Customer currently being served:')\n",
        "print(q.pop(0))\n",
        "\n",
        "print(\"Latest list for orders:\")\n",
        "print(q)\n",
        "\n",
        "print('Customer currently being served:')\n",
        "print(q.pop(0))\n",
        "\n",
        "print('**Currently out of orders**')\n",
        "print(q)\n"
      ],
      "metadata": {
        "colab": {
          "base_uri": "https://localhost:8080/"
        },
        "id": "SmEMkxErs11R",
        "outputId": "6741ad77-f1ca-4e54-8c0c-bc74991ba8e7"
      },
      "execution_count": 25,
      "outputs": [
        {
          "output_type": "stream",
          "name": "stdout",
          "text": [
            "Queue for ordering:\n",
            "['19', '20', '21', '23']\n",
            "Customer currently being served:\n",
            "19\n",
            "Latest list for orders:\n",
            "['20', '21', '23']\n",
            "Customer currently being served:\n",
            "20\n",
            "Latest list for orders:\n",
            "['21', '23']\n",
            "Customer currently being served:\n",
            "21\n",
            "Latest list for orders:\n",
            "['23']\n",
            "Customer currently being served:\n",
            "23\n",
            "**Currently out of orders**\n",
            "[]\n"
          ]
        }
      ]
    }
  ]
}